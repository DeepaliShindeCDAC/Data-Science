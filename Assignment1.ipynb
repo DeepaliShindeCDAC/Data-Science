{
 "cells": [
  {
   "cell_type": "markdown",
   "id": "561fbd5e",
   "metadata": {},
   "source": [
    "## Data Science\n",
    "### Assignment : 1\n",
    "#### 1. Write a program to read Celsius temperature and print equivalent Fahrenheit temperate on screen."
   ]
  },
  {
   "cell_type": "code",
   "execution_count": 4,
   "id": "61a758dc",
   "metadata": {},
   "outputs": [
    {
     "name": "stdout",
     "output_type": "stream",
     "text": [
      "Enter temperature in Celsius:36\n",
      "Temperature in Fahrenheit for 36.0 is : 96.8\n"
     ]
    }
   ],
   "source": [
    "num1 = float(input('Enter temperature in Celsius:'))\n",
    "F = (9/5)* num1 + 32\n",
    "print(\"Temperature in Fahrenheit for\",num1, \"is :\" ,F)"
   ]
  },
  {
   "cell_type": "markdown",
   "id": "d71efe73",
   "metadata": {},
   "source": [
    "#### 2. Read radius of the circle from user and find the area and perimeter of it.\n"
   ]
  },
  {
   "cell_type": "code",
   "execution_count": 7,
   "id": "99a1e012",
   "metadata": {},
   "outputs": [
    {
     "name": "stdout",
     "output_type": "stream",
     "text": [
      "Enter radius of circle:5\n",
      "Area of Circle is : 78.5\n",
      "perimeter of Circle is : 31.400000000000002\n"
     ]
    }
   ],
   "source": [
    "r = float(input('Enter radius of circle:'))\n",
    "pi=3.14\n",
    "A=pi*r*r\n",
    "print(\"Area of Circle is :\", A)\n",
    "p=2*pi*r\n",
    "print(\"perimeter of Circle is :\", p)"
   ]
  },
  {
   "cell_type": "markdown",
   "id": "fd1fea34",
   "metadata": {},
   "source": [
    "#### 3. Read the amount and percentage of interest from the keyboard and find final amount after adding interest in original amount."
   ]
  },
  {
   "cell_type": "code",
   "execution_count": 13,
   "id": "8deda2fc",
   "metadata": {},
   "outputs": [
    {
     "name": "stdout",
     "output_type": "stream",
     "text": [
      "Enter amount:19999\n",
      "Enter percentage:8.5\n",
      "final amount after adding interest in original amount is : 21698.915\n"
     ]
    }
   ],
   "source": [
    "amt = float(input('Enter amount:'))\n",
    "per = float(input('Enter percentage:'))\n",
    "FinalAmt = amt+(amt*per/100)\n",
    "print(\"final amount after adding interest in original amount is :\", FinalAmt)"
   ]
  },
  {
   "cell_type": "markdown",
   "id": "461e0b83",
   "metadata": {},
   "source": [
    "#### 4. Write a program to read distance value in meters and convert it into centimeters,inches, and yards."
   ]
  },
  {
   "cell_type": "code",
   "execution_count": 16,
   "id": "947abeb5",
   "metadata": {},
   "outputs": [
    {
     "name": "stdout",
     "output_type": "stream",
     "text": [
      "Enter distance value in meters:20\n",
      "centimeter: 2000.0\n",
      "inches: 787.4\n",
      "yards: 21.872\n"
     ]
    }
   ],
   "source": [
    "distance = float(input('Enter distance value in meters:'))\n",
    "centimeter= distance*100\n",
    "inches = 39.37*distance\n",
    "yards = 1.0936 *distance\n",
    "\n",
    "print(\"centimeter:\",centimeter)\n",
    "print(\"inches:\",inches)\n",
    "print(\"yards:\",yards)"
   ]
  },
  {
   "cell_type": "markdown",
   "id": "54e17e52",
   "metadata": {},
   "source": [
    "#### 5. Write a Python program to calculate profit or loss. Input is selling cost and actual cost of a product."
   ]
  },
  {
   "cell_type": "code",
   "execution_count": 22,
   "id": "8fc9698c",
   "metadata": {},
   "outputs": [
    {
     "name": "stdout",
     "output_type": "stream",
     "text": [
      "Enter selling cost of a product:1000\n",
      "Enter actual cost of a products:1200\n",
      "loss\n"
     ]
    }
   ],
   "source": [
    "sellingcost= float(input('Enter selling cost of a product:'))\n",
    "actualcost = float(input('Enter actual cost of a products:'))\n",
    "if sellingcost > actualcost:\n",
    "    print(\"Profit\")\n",
    "elif sellingcost == actualcost:\n",
    "    print(\"No loss No Profit\")\n",
    "else:\n",
    "    print(\"loss\")\n",
    "\n",
    "    "
   ]
  },
  {
   "cell_type": "markdown",
   "id": "f82f8b4c",
   "metadata": {},
   "source": [
    "#### 6.Write a program to input basic salary and find output of gross salary using following:\n",
    "##### DA = 75% of basic\n",
    "##### HRA = 20% of basic\n",
    "##### Conditions:\n",
    "##### Basic < 10000 : gross = da + basic\n",
    "##### Basic >= 10000 and < 20000 : gross = da + basic + 50% of hra\n",
    "##### Basic >= 20000 : gross = basic + da + hra"
   ]
  },
  {
   "cell_type": "code",
   "execution_count": 33,
   "id": "06e88316",
   "metadata": {},
   "outputs": [
    {
     "name": "stdout",
     "output_type": "stream",
     "text": [
      "Enter basic salary:12000\n",
      "Gross Salary= 22200.0\n"
     ]
    }
   ],
   "source": [
    "basic = float(input('Enter basic salary:'))\n",
    "DA= 0.75*basic\n",
    "HRA = 0.20*basic\n",
    "\n",
    "if basic<10000:\n",
    "    gross=DA+basic\n",
    "elif basic >= 10000 and basic < 20000:\n",
    "     gross=DA+basic+(0.50*HRA)\n",
    "else:\n",
    "     gross=DA+basic+HRA\n",
    "        \n",
    "print(\"Gross Salary=\",gross)\n"
   ]
  },
  {
   "cell_type": "markdown",
   "id": "c9650f22",
   "metadata": {},
   "source": [
    "#### 7.Write a program to read a number from user and find the factorial of the number.\n",
    "#### Example: Factorial for 5 = 5 x 4 x 3 x 2 x 1 = 120"
   ]
  },
  {
   "cell_type": "code",
   "execution_count": 47,
   "id": "b0f3515c",
   "metadata": {},
   "outputs": [
    {
     "name": "stdout",
     "output_type": "stream",
     "text": [
      "Enter number:10\n",
      "Factorial= 3628800.0\n"
     ]
    }
   ],
   "source": [
    "num = float(input('Enter number:'))\n",
    "Fact =1\n",
    "while num >= 1:\n",
    "    Fact=Fact*num\n",
    "    num-=1\n",
    "\n",
    "print(\"Factorial=\", Fact )\n"
   ]
  },
  {
   "cell_type": "markdown",
   "id": "3c753f5f",
   "metadata": {},
   "source": [
    "#### 8.Write a program to read num1 and num2 from keyboard and find addition of all number between that range."
   ]
  },
  {
   "cell_type": "code",
   "execution_count": 67,
   "id": "6b55a225",
   "metadata": {},
   "outputs": [
    {
     "name": "stdout",
     "output_type": "stream",
     "text": [
      "Enter number1:5\n",
      "Enter number2:2\n",
      "14\n"
     ]
    }
   ],
   "source": [
    "num1 = int(input('Enter number1:'))\n",
    "num2 = int(input('Enter number2:'))\n",
    "if num1<num2:\n",
    "    startnum=num1\n",
    "    endnum=num2\n",
    "else:\n",
    "    startnum = num2\n",
    "    endnum=num1\n",
    "add=0\n",
    " \n",
    "while startnum<=endnum:\n",
    "    add+=startnum\n",
    "    startnum+=1\n",
    "\n",
    "print(add)\n",
    "         "
   ]
  },
  {
   "cell_type": "markdown",
   "id": "f2d6805c",
   "metadata": {},
   "source": [
    "#### 9. See the tuple given: num = (56,2,35,41,43,48,32,56,71,55,68)\n",
    "#### Write a program to create two lists from it where first list contains only even numbers and second will contain only odd numbers."
   ]
  },
  {
   "cell_type": "code",
   "execution_count": 68,
   "id": "7b7e8b0a",
   "metadata": {},
   "outputs": [
    {
     "name": "stdout",
     "output_type": "stream",
     "text": [
      "even numbers list [56, 2, 48, 32, 56, 68]\n",
      "odd numbers list [35, 41, 43, 71, 55]\n"
     ]
    }
   ],
   "source": [
    "num = (56,2,35,41,43,48,32,56,71,55,68)\n",
    "evenno =[n for n in num if n%2 ==0]\n",
    "oddno =[n for n in num if n%2 ==1] \n",
    "print(\"even numbers list\",evenno )\n",
    "print(\"odd numbers list\",oddno )"
   ]
  },
  {
   "cell_type": "markdown",
   "id": "aeae3f10",
   "metadata": {},
   "source": [
    "#### 10.Write a program to read a number from user. Create and use a user defined function to check whether it is odd or even?"
   ]
  },
  {
   "cell_type": "code",
   "execution_count": 72,
   "id": "b55574a8",
   "metadata": {},
   "outputs": [
    {
     "name": "stdout",
     "output_type": "stream",
     "text": [
      "Enter number:4\n",
      "4 is even number\n"
     ]
    }
   ],
   "source": [
    "def checkoddoreven(n):\n",
    "    if n%2==0:\n",
    "        print(n, \"is even number\")\n",
    "    else:\n",
    "         print(n, \"is odd number\")\n",
    "    \n",
    "\n",
    "\n",
    "num= int(input(\"Enter number:\"))\n",
    "\n",
    "checkoddoreven(num)"
   ]
  },
  {
   "cell_type": "markdown",
   "id": "185131d9",
   "metadata": {},
   "source": [
    "#### 11.Write a program to read a number from user and find the square root, sin, tan, log and factorial of this number using math module."
   ]
  },
  {
   "cell_type": "code",
   "execution_count": 73,
   "id": "dede9bf6",
   "metadata": {},
   "outputs": [],
   "source": [
    "import math\n"
   ]
  },
  {
   "cell_type": "code",
   "execution_count": 77,
   "id": "4d6cce7a",
   "metadata": {},
   "outputs": [
    {
     "name": "stdout",
     "output_type": "stream",
     "text": [
      "Enter number:9\n",
      "square root= 3.0 sin= 0.4121184852417566 tan= -0.45231565944180985 log = 2.1972245773362196 factorial= 362880\n"
     ]
    }
   ],
   "source": [
    "num1 = int(input(\"Enter number:\"))\n",
    "sqrtval = math.sqrt(num1)\n",
    "sinval =math.sin(num1)\n",
    "tanval =math.tan(num1)\n",
    "logval =math.log(num1)\n",
    "factval = math.factorial(num1)\n",
    "print(\"square root=\",sqrtval, \"sin=\" ,sinval, \"tan=\", tanval,\"log =\",logval, \"factorial=\",factval )"
   ]
  },
  {
   "cell_type": "markdown",
   "id": "f32bdb23",
   "metadata": {},
   "source": [
    "#### 12.Write a Python class named ‘Rectangle’ with two attributes length and width and a method named ‘calculate’ which will compute the area of a rectangle. Create an object to pass length and width and call the method to calculate the area of rectangle."
   ]
  },
  {
   "cell_type": "code",
   "execution_count": 84,
   "id": "cf481cf6",
   "metadata": {},
   "outputs": [],
   "source": [
    "class Rectangle:\n",
    "    def __init__(self,l,w):\n",
    "        self.length =l\n",
    "        self.width =w\n",
    "    \n",
    "    def calculate(self):\n",
    "        a=self.length * self.width\n",
    "        print(\"area of rectangle=\",a)"
   ]
  },
  {
   "cell_type": "code",
   "execution_count": 85,
   "id": "8ee9ef3b",
   "metadata": {},
   "outputs": [
    {
     "name": "stdout",
     "output_type": "stream",
     "text": [
      "area of rectangle= 15\n"
     ]
    }
   ],
   "source": [
    "obj1 = Rectangle(3,5)\n",
    "obj1.calculate()"
   ]
  },
  {
   "cell_type": "code",
   "execution_count": null,
   "id": "d2356f09",
   "metadata": {},
   "outputs": [],
   "source": []
  },
  {
   "cell_type": "code",
   "execution_count": null,
   "id": "807fc59c",
   "metadata": {},
   "outputs": [],
   "source": []
  }
 ],
 "metadata": {
  "kernelspec": {
   "display_name": "Python 3 (ipykernel)",
   "language": "python",
   "name": "python3"
  },
  "language_info": {
   "codemirror_mode": {
    "name": "ipython",
    "version": 3
   },
   "file_extension": ".py",
   "mimetype": "text/x-python",
   "name": "python",
   "nbconvert_exporter": "python",
   "pygments_lexer": "ipython3",
   "version": "3.11.3"
  }
 },
 "nbformat": 4,
 "nbformat_minor": 5
}
