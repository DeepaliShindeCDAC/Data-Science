{
 "cells": [
  {
   "cell_type": "markdown",
   "id": "58dc8fe5",
   "metadata": {},
   "source": [
    "## Simple Function"
   ]
  },
  {
   "cell_type": "code",
   "execution_count": 1,
   "id": "ec0fef8b",
   "metadata": {},
   "outputs": [],
   "source": [
    "def show():\n",
    "    print(\"hi\")\n",
    "    "
   ]
  },
  {
   "cell_type": "code",
   "execution_count": 2,
   "id": "96121586",
   "metadata": {},
   "outputs": [
    {
     "name": "stdout",
     "output_type": "stream",
     "text": [
      "hi\n"
     ]
    }
   ],
   "source": [
    "show()"
   ]
  },
  {
   "cell_type": "markdown",
   "id": "8cf5e874",
   "metadata": {},
   "source": [
    "## Parameterized Function"
   ]
  },
  {
   "cell_type": "code",
   "execution_count": 4,
   "id": "a39cc620",
   "metadata": {},
   "outputs": [],
   "source": [
    "def squre(n):\n",
    "    sq=n*n\n",
    "    print(sq)"
   ]
  },
  {
   "cell_type": "code",
   "execution_count": 6,
   "id": "c468f81c",
   "metadata": {},
   "outputs": [
    {
     "name": "stdout",
     "output_type": "stream",
     "text": [
      "484\n"
     ]
    }
   ],
   "source": [
    "squre(22)"
   ]
  },
  {
   "cell_type": "markdown",
   "id": "ee2a4b02",
   "metadata": {},
   "source": [
    "## Returning value in  Function"
   ]
  },
  {
   "cell_type": "code",
   "execution_count": 7,
   "id": "f67104be",
   "metadata": {},
   "outputs": [],
   "source": [
    "def compare(x,y):\n",
    "    if x>y:\n",
    "        return x\n",
    "    else:\n",
    "        return y"
   ]
  },
  {
   "cell_type": "code",
   "execution_count": 9,
   "id": "8af26372",
   "metadata": {},
   "outputs": [
    {
     "data": {
      "text/plain": [
       "9"
      ]
     },
     "execution_count": 9,
     "metadata": {},
     "output_type": "execute_result"
    }
   ],
   "source": [
    "t= compare(9,7)\n",
    "t"
   ]
  },
  {
   "cell_type": "code",
   "execution_count": 11,
   "id": "58354caf",
   "metadata": {},
   "outputs": [
    {
     "data": {
      "text/plain": [
       "45"
      ]
     },
     "execution_count": 11,
     "metadata": {},
     "output_type": "execute_result"
    }
   ],
   "source": [
    "5* compare(9,7)"
   ]
  },
  {
   "cell_type": "code",
   "execution_count": 12,
   "id": "65ada156",
   "metadata": {},
   "outputs": [],
   "source": [
    "def calc(num):\n",
    "    sq = num*num\n",
    "    cu =sq*num\n",
    "    return sq,cu   # multiple values can be return in functions in python"
   ]
  },
  {
   "cell_type": "code",
   "execution_count": 13,
   "id": "f5e004c4",
   "metadata": {},
   "outputs": [
    {
     "data": {
      "text/plain": [
       "(9, 27)"
      ]
     },
     "execution_count": 13,
     "metadata": {},
     "output_type": "execute_result"
    }
   ],
   "source": [
    "calc(3)"
   ]
  },
  {
   "cell_type": "code",
   "execution_count": 14,
   "id": "c19fbacd",
   "metadata": {},
   "outputs": [
    {
     "name": "stdout",
     "output_type": "stream",
     "text": [
      "square and cube are (16, 64)\n"
     ]
    }
   ],
   "source": [
    "print(\"square and cube are\", calc(4) )"
   ]
  },
  {
   "cell_type": "code",
   "execution_count": 15,
   "id": "da438aec",
   "metadata": {},
   "outputs": [
    {
     "name": "stdout",
     "output_type": "stream",
     "text": [
      "square and cube are 16 64\n"
     ]
    }
   ],
   "source": [
    "x,y = calc(4)\n",
    "print(\"square and cube are\", x,y )"
   ]
  },
  {
   "cell_type": "code",
   "execution_count": 16,
   "id": "0dd846d2",
   "metadata": {},
   "outputs": [
    {
     "name": "stdout",
     "output_type": "stream",
     "text": [
      "Help on built-in function max in module builtins:\n",
      "\n",
      "max(...)\n",
      "    max(iterable, *[, default=obj, key=func]) -> value\n",
      "    max(arg1, arg2, *args, *[, key=func]) -> value\n",
      "    \n",
      "    With a single iterable argument, return its biggest item. The\n",
      "    default keyword-only argument specifies an object to return if\n",
      "    the provided iterable is empty.\n",
      "    With two or more arguments, return the largest argument.\n",
      "\n"
     ]
    }
   ],
   "source": [
    "help(max)"
   ]
  },
  {
   "cell_type": "code",
   "execution_count": 17,
   "id": "37bb5b8d",
   "metadata": {},
   "outputs": [
    {
     "name": "stdout",
     "output_type": "stream",
     "text": [
      "Help on function calc in module __main__:\n",
      "\n",
      "calc(num)\n",
      "\n"
     ]
    }
   ],
   "source": [
    "help(calc)"
   ]
  },
  {
   "cell_type": "markdown",
   "id": "4b46b0eb",
   "metadata": {},
   "source": [
    "## default parameters"
   ]
  },
  {
   "cell_type": "code",
   "execution_count": 2,
   "id": "64238ddb",
   "metadata": {},
   "outputs": [],
   "source": [
    "def add(x=5,y=7, z=3):\n",
    "    a=x+y+z\n",
    "    return a"
   ]
  },
  {
   "cell_type": "code",
   "execution_count": 19,
   "id": "581f9566",
   "metadata": {},
   "outputs": [
    {
     "data": {
      "text/plain": [
       "12"
      ]
     },
     "execution_count": 19,
     "metadata": {},
     "output_type": "execute_result"
    }
   ],
   "source": [
    "add(4,6,2)"
   ]
  },
  {
   "cell_type": "code",
   "execution_count": 20,
   "id": "20be9c35",
   "metadata": {},
   "outputs": [
    {
     "data": {
      "text/plain": [
       "13"
      ]
     },
     "execution_count": 20,
     "metadata": {},
     "output_type": "execute_result"
    }
   ],
   "source": [
    "add(4,6)"
   ]
  },
  {
   "cell_type": "code",
   "execution_count": 21,
   "id": "4fc9bd5a",
   "metadata": {},
   "outputs": [
    {
     "data": {
      "text/plain": [
       "14"
      ]
     },
     "execution_count": 21,
     "metadata": {},
     "output_type": "execute_result"
    }
   ],
   "source": [
    "add(4)"
   ]
  },
  {
   "cell_type": "code",
   "execution_count": 22,
   "id": "44318fe6",
   "metadata": {},
   "outputs": [
    {
     "data": {
      "text/plain": [
       "15"
      ]
     },
     "execution_count": 22,
     "metadata": {},
     "output_type": "execute_result"
    }
   ],
   "source": [
    "add()"
   ]
  },
  {
   "cell_type": "code",
   "execution_count": 3,
   "id": "08bd13cd",
   "metadata": {},
   "outputs": [
    {
     "data": {
      "text/plain": [
       "9"
      ]
     },
     "execution_count": 3,
     "metadata": {},
     "output_type": "execute_result"
    }
   ],
   "source": [
    "add(y=1)"
   ]
  },
  {
   "cell_type": "code",
   "execution_count": null,
   "id": "c6b2dbe3",
   "metadata": {},
   "outputs": [],
   "source": []
  }
 ],
 "metadata": {
  "kernelspec": {
   "display_name": "Python 3 (ipykernel)",
   "language": "python",
   "name": "python3"
  },
  "language_info": {
   "codemirror_mode": {
    "name": "ipython",
    "version": 3
   },
   "file_extension": ".py",
   "mimetype": "text/x-python",
   "name": "python",
   "nbconvert_exporter": "python",
   "pygments_lexer": "ipython3",
   "version": "3.11.3"
  }
 },
 "nbformat": 4,
 "nbformat_minor": 5
}
