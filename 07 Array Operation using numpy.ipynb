{
 "cells": [
  {
   "cell_type": "code",
   "execution_count": 1,
   "id": "6dff0651",
   "metadata": {},
   "outputs": [],
   "source": [
    "import numpy as np"
   ]
  },
  {
   "cell_type": "code",
   "execution_count": 2,
   "id": "f44c7fd9",
   "metadata": {},
   "outputs": [],
   "source": [
    "num = np.array([56,33,12,78,52,68,25])"
   ]
  },
  {
   "cell_type": "code",
   "execution_count": 3,
   "id": "d94d5a25",
   "metadata": {},
   "outputs": [
    {
     "data": {
      "text/plain": [
       "array([56, 33, 12, 78, 52, 68, 25])"
      ]
     },
     "execution_count": 3,
     "metadata": {},
     "output_type": "execute_result"
    }
   ],
   "source": [
    "num"
   ]
  },
  {
   "cell_type": "code",
   "execution_count": 4,
   "id": "33e6d0e0",
   "metadata": {},
   "outputs": [
    {
     "data": {
      "text/plain": [
       "numpy.ndarray"
      ]
     },
     "execution_count": 4,
     "metadata": {},
     "output_type": "execute_result"
    }
   ],
   "source": [
    "type(num)"
   ]
  },
  {
   "cell_type": "code",
   "execution_count": 5,
   "id": "7132250f",
   "metadata": {},
   "outputs": [
    {
     "name": "stdout",
     "output_type": "stream",
     "text": [
      "[56 33 12 78 52 68 25]\n"
     ]
    }
   ],
   "source": [
    "print(num) #list show list but not having comma in between"
   ]
  },
  {
   "cell_type": "code",
   "execution_count": 6,
   "id": "81922e47",
   "metadata": {},
   "outputs": [
    {
     "data": {
      "text/plain": [
       "dtype('int32')"
      ]
     },
     "execution_count": 6,
     "metadata": {},
     "output_type": "execute_result"
    }
   ],
   "source": [
    "num.dtype"
   ]
  },
  {
   "cell_type": "code",
   "execution_count": 22,
   "id": "bb4fb6bc",
   "metadata": {},
   "outputs": [],
   "source": [
    "num = np.array([56,33,12,78,52,68,25], dtype= np.int16)"
   ]
  },
  {
   "cell_type": "code",
   "execution_count": 23,
   "id": "1d13286c",
   "metadata": {},
   "outputs": [
    {
     "data": {
      "text/plain": [
       "array([56, 33, 12, 78, 52, 68, 25], dtype=int16)"
      ]
     },
     "execution_count": 23,
     "metadata": {},
     "output_type": "execute_result"
    }
   ],
   "source": [
    "num"
   ]
  },
  {
   "cell_type": "code",
   "execution_count": 24,
   "id": "1eb91d86",
   "metadata": {},
   "outputs": [
    {
     "data": {
      "text/plain": [
       "68"
      ]
     },
     "execution_count": 24,
     "metadata": {},
     "output_type": "execute_result"
    }
   ],
   "source": [
    "num[5]"
   ]
  },
  {
   "cell_type": "code",
   "execution_count": 25,
   "id": "b24f2d9c",
   "metadata": {},
   "outputs": [],
   "source": [
    "num[5]=22  # mutable"
   ]
  },
  {
   "cell_type": "code",
   "execution_count": 26,
   "id": "8ead6f3b",
   "metadata": {},
   "outputs": [
    {
     "data": {
      "text/plain": [
       "array([56, 33, 12, 78, 52, 22, 25], dtype=int16)"
      ]
     },
     "execution_count": 26,
     "metadata": {},
     "output_type": "execute_result"
    }
   ],
   "source": [
    "num"
   ]
  },
  {
   "cell_type": "code",
   "execution_count": 27,
   "id": "68654c95",
   "metadata": {},
   "outputs": [
    {
     "data": {
      "text/plain": [
       "1"
      ]
     },
     "execution_count": 27,
     "metadata": {},
     "output_type": "execute_result"
    }
   ],
   "source": [
    "num.ndim"
   ]
  },
  {
   "cell_type": "code",
   "execution_count": 28,
   "id": "44258217",
   "metadata": {},
   "outputs": [
    {
     "data": {
      "text/plain": [
       "12"
      ]
     },
     "execution_count": 28,
     "metadata": {},
     "output_type": "execute_result"
    }
   ],
   "source": [
    "num.min()"
   ]
  },
  {
   "cell_type": "code",
   "execution_count": 29,
   "id": "cf6b12f4",
   "metadata": {},
   "outputs": [
    {
     "data": {
      "text/plain": [
       "78"
      ]
     },
     "execution_count": 29,
     "metadata": {},
     "output_type": "execute_result"
    }
   ],
   "source": [
    "num.max()"
   ]
  },
  {
   "cell_type": "code",
   "execution_count": 30,
   "id": "0a238475",
   "metadata": {},
   "outputs": [
    {
     "data": {
      "text/plain": [
       "7"
      ]
     },
     "execution_count": 30,
     "metadata": {},
     "output_type": "execute_result"
    }
   ],
   "source": [
    "num.size"
   ]
  },
  {
   "cell_type": "code",
   "execution_count": 31,
   "id": "3198901b",
   "metadata": {},
   "outputs": [],
   "source": [
    "num1 =np.array([45.67,23.56,78.25,89.82])"
   ]
  },
  {
   "cell_type": "code",
   "execution_count": 32,
   "id": "b4b38490",
   "metadata": {},
   "outputs": [
    {
     "data": {
      "text/plain": [
       "dtype('float64')"
      ]
     },
     "execution_count": 32,
     "metadata": {},
     "output_type": "execute_result"
    }
   ],
   "source": [
    "num1.dtype"
   ]
  },
  {
   "cell_type": "code",
   "execution_count": 33,
   "id": "7288dae4",
   "metadata": {},
   "outputs": [
    {
     "data": {
      "text/plain": [
       "[45.67, 23.56, 78.25, 89.82]"
      ]
     },
     "execution_count": 33,
     "metadata": {},
     "output_type": "execute_result"
    }
   ],
   "source": [
    "num1.tolist()"
   ]
  },
  {
   "cell_type": "code",
   "execution_count": 34,
   "id": "5fde4f9d",
   "metadata": {},
   "outputs": [
    {
     "data": {
      "text/plain": [
       "array([45.67, 23.56, 78.25, 89.82])"
      ]
     },
     "execution_count": 34,
     "metadata": {},
     "output_type": "execute_result"
    }
   ],
   "source": [
    "num1"
   ]
  },
  {
   "cell_type": "code",
   "execution_count": 35,
   "id": "b62cef6e",
   "metadata": {},
   "outputs": [
    {
     "data": {
      "text/plain": [
       "array([112,  66,  24, 156, 104,  44,  50], dtype=int16)"
      ]
     },
     "execution_count": 35,
     "metadata": {},
     "output_type": "execute_result"
    }
   ],
   "source": [
    "num *2"
   ]
  },
  {
   "cell_type": "code",
   "execution_count": 36,
   "id": "17e1b040",
   "metadata": {},
   "outputs": [
    {
     "data": {
      "text/plain": [
       "array([ True, False, False,  True,  True, False, False])"
      ]
     },
     "execution_count": 36,
     "metadata": {},
     "output_type": "execute_result"
    }
   ],
   "source": [
    "num>40  #check the condition"
   ]
  },
  {
   "cell_type": "code",
   "execution_count": 37,
   "id": "85f992f7",
   "metadata": {},
   "outputs": [
    {
     "data": {
      "text/plain": [
       "array([56, 78, 52], dtype=int16)"
      ]
     },
     "execution_count": 37,
     "metadata": {},
     "output_type": "execute_result"
    }
   ],
   "source": [
    "num[num>40]   # filter true value  i.e. grater than 40"
   ]
  },
  {
   "cell_type": "markdown",
   "id": "b475a4ed",
   "metadata": {},
   "source": [
    "#### Matrix \n",
    "###### 2-d array"
   ]
  },
  {
   "cell_type": "code",
   "execution_count": 40,
   "id": "f9560ac8",
   "metadata": {},
   "outputs": [],
   "source": [
    "M = np.array([[5,6,7],[2,4,3],[6,8,9],[0,1,3]])"
   ]
  },
  {
   "cell_type": "code",
   "execution_count": 41,
   "id": "2186e6a1",
   "metadata": {},
   "outputs": [
    {
     "data": {
      "text/plain": [
       "array([[5, 6, 7],\n",
       "       [2, 4, 3],\n",
       "       [6, 8, 9],\n",
       "       [0, 1, 3]])"
      ]
     },
     "execution_count": 41,
     "metadata": {},
     "output_type": "execute_result"
    }
   ],
   "source": [
    "M\n"
   ]
  },
  {
   "cell_type": "code",
   "execution_count": 42,
   "id": "3379df19",
   "metadata": {},
   "outputs": [
    {
     "data": {
      "text/plain": [
       "2"
      ]
     },
     "execution_count": 42,
     "metadata": {},
     "output_type": "execute_result"
    }
   ],
   "source": [
    "M.ndim"
   ]
  },
  {
   "cell_type": "code",
   "execution_count": 43,
   "id": "00f5cfbe",
   "metadata": {},
   "outputs": [
    {
     "data": {
      "text/plain": [
       "(4, 3)"
      ]
     },
     "execution_count": 43,
     "metadata": {},
     "output_type": "execute_result"
    }
   ],
   "source": [
    "M.shape ##shows in rows and col"
   ]
  },
  {
   "cell_type": "code",
   "execution_count": 44,
   "id": "667e0b8e",
   "metadata": {},
   "outputs": [
    {
     "data": {
      "text/plain": [
       "12"
      ]
     },
     "execution_count": 44,
     "metadata": {},
     "output_type": "execute_result"
    }
   ],
   "source": [
    "M.size"
   ]
  },
  {
   "cell_type": "code",
   "execution_count": 45,
   "id": "f9cbb75c",
   "metadata": {},
   "outputs": [
    {
     "data": {
      "text/plain": [
       "dtype('int32')"
      ]
     },
     "execution_count": 45,
     "metadata": {},
     "output_type": "execute_result"
    }
   ],
   "source": [
    "M.dtype"
   ]
  },
  {
   "cell_type": "code",
   "execution_count": 46,
   "id": "7431f328",
   "metadata": {},
   "outputs": [
    {
     "data": {
      "text/plain": [
       "6"
      ]
     },
     "execution_count": 46,
     "metadata": {},
     "output_type": "execute_result"
    }
   ],
   "source": [
    "M[0][1] #0th row and 1st col"
   ]
  },
  {
   "cell_type": "code",
   "execution_count": 47,
   "id": "535cb474",
   "metadata": {},
   "outputs": [
    {
     "data": {
      "text/plain": [
       "6"
      ]
     },
     "execution_count": 47,
     "metadata": {},
     "output_type": "execute_result"
    }
   ],
   "source": [
    "M[0,1] "
   ]
  },
  {
   "cell_type": "code",
   "execution_count": 52,
   "id": "4cc2a7ae",
   "metadata": {},
   "outputs": [],
   "source": [
    "M[0,1] =6"
   ]
  },
  {
   "cell_type": "code",
   "execution_count": 53,
   "id": "610dd2a3",
   "metadata": {},
   "outputs": [
    {
     "data": {
      "text/plain": [
       "array([[5, 6, 7],\n",
       "       [2, 4, 3],\n",
       "       [6, 8, 9],\n",
       "       [0, 1, 3]])"
      ]
     },
     "execution_count": 53,
     "metadata": {},
     "output_type": "execute_result"
    }
   ],
   "source": [
    "M"
   ]
  },
  {
   "cell_type": "code",
   "execution_count": 54,
   "id": "5eda2c37",
   "metadata": {},
   "outputs": [
    {
     "data": {
      "text/plain": [
       "array([[5, 2, 6, 0],\n",
       "       [6, 4, 8, 1],\n",
       "       [7, 3, 9, 3]])"
      ]
     },
     "execution_count": 54,
     "metadata": {},
     "output_type": "execute_result"
    }
   ],
   "source": [
    "M.T # transpose i.e. converting rows to col"
   ]
  },
  {
   "cell_type": "code",
   "execution_count": 55,
   "id": "9e08a3fa",
   "metadata": {},
   "outputs": [
    {
     "data": {
      "text/plain": [
       "array([[5, 2, 6, 0],\n",
       "       [6, 4, 8, 1],\n",
       "       [7, 3, 9, 3]])"
      ]
     },
     "execution_count": 55,
     "metadata": {},
     "output_type": "execute_result"
    }
   ],
   "source": [
    "M.transpose()"
   ]
  },
  {
   "cell_type": "code",
   "execution_count": 56,
   "id": "f4efeab5",
   "metadata": {},
   "outputs": [
    {
     "data": {
      "text/plain": [
       "array([[5, 6],\n",
       "       [7, 2],\n",
       "       [4, 3],\n",
       "       [6, 8],\n",
       "       [9, 0],\n",
       "       [1, 3]])"
      ]
     },
     "execution_count": 56,
     "metadata": {},
     "output_type": "execute_result"
    }
   ],
   "source": [
    "M.reshape(6,2)"
   ]
  },
  {
   "cell_type": "code",
   "execution_count": 58,
   "id": "a4c6402c",
   "metadata": {},
   "outputs": [
    {
     "data": {
      "text/plain": [
       "array([5, 6, 7, 2, 4, 3, 6, 8, 9, 0, 1, 3])"
      ]
     },
     "execution_count": 58,
     "metadata": {},
     "output_type": "execute_result"
    }
   ],
   "source": [
    "M.flatten()"
   ]
  },
  {
   "cell_type": "code",
   "execution_count": 61,
   "id": "f28e3462",
   "metadata": {},
   "outputs": [
    {
     "data": {
      "text/plain": [
       "array([5, 6, 7, 2, 4, 3, 6, 8, 9, 0, 1, 3])"
      ]
     },
     "execution_count": 61,
     "metadata": {},
     "output_type": "execute_result"
    }
   ],
   "source": [
    "M.reshape([12]) # if know exact no. of data in M"
   ]
  },
  {
   "cell_type": "code",
   "execution_count": 62,
   "id": "af231f99",
   "metadata": {},
   "outputs": [
    {
     "data": {
      "text/plain": [
       "array([5, 6, 7, 2, 4, 3, 6, 8, 9, 0, 1, 3])"
      ]
     },
     "execution_count": 62,
     "metadata": {},
     "output_type": "execute_result"
    }
   ],
   "source": [
    "M.reshape([-1])   # if don't know exact no. of data in M"
   ]
  },
  {
   "cell_type": "code",
   "execution_count": 63,
   "id": "a56b0184",
   "metadata": {},
   "outputs": [
    {
     "data": {
      "text/plain": [
       "array([[5, 6, 7, 2],\n",
       "       [4, 3, 6, 8],\n",
       "       [9, 0, 1, 3]])"
      ]
     },
     "execution_count": 63,
     "metadata": {},
     "output_type": "execute_result"
    }
   ],
   "source": [
    "M.reshape([-1,4]) # only want 4 col and don't know no. of data "
   ]
  },
  {
   "cell_type": "code",
   "execution_count": null,
   "id": "72502934",
   "metadata": {},
   "outputs": [],
   "source": []
  }
 ],
 "metadata": {
  "kernelspec": {
   "display_name": "Python 3 (ipykernel)",
   "language": "python",
   "name": "python3"
  },
  "language_info": {
   "codemirror_mode": {
    "name": "ipython",
    "version": 3
   },
   "file_extension": ".py",
   "mimetype": "text/x-python",
   "name": "python",
   "nbconvert_exporter": "python",
   "pygments_lexer": "ipython3",
   "version": "3.11.3"
  }
 },
 "nbformat": 4,
 "nbformat_minor": 5
}
