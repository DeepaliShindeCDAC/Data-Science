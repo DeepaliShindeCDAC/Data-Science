{
 "cells": [
  {
   "cell_type": "code",
   "execution_count": 14,
   "id": "5a24a53f",
   "metadata": {},
   "outputs": [],
   "source": [
    "class Person:\n",
    "    #constructor\n",
    "    def __init__(self,n,a):\n",
    "        self.name=n   # instance variables\n",
    "        self.age =a    #name and age are attributes and propoerties\n",
    "    \n",
    "    def show(self):\n",
    "        print(\"my data:\", self.name, self.age)\n",
    "    \n",
    "    def isEligible(self):\n",
    "        if self.age>=21:\n",
    "            return True\n",
    "        else:\n",
    "            return False\n",
    "        "
   ]
  },
  {
   "cell_type": "code",
   "execution_count": 15,
   "id": "0b2825c7",
   "metadata": {},
   "outputs": [],
   "source": [
    "#create object\n",
    "\n",
    "obj1 = Person('Anil',30)"
   ]
  },
  {
   "cell_type": "code",
   "execution_count": 5,
   "id": "68d1f0cb",
   "metadata": {},
   "outputs": [
    {
     "data": {
      "text/plain": [
       "('Anil', 30)"
      ]
     },
     "execution_count": 5,
     "metadata": {},
     "output_type": "execute_result"
    }
   ],
   "source": [
    "obj1.name, obj1.age"
   ]
  },
  {
   "cell_type": "code",
   "execution_count": 20,
   "id": "77348de9",
   "metadata": {},
   "outputs": [
    {
     "data": {
      "text/plain": [
       "('deepali', 20)"
      ]
     },
     "execution_count": 20,
     "metadata": {},
     "output_type": "execute_result"
    }
   ],
   "source": [
    "obj2 = Person('deepali',20)\n",
    "obj2.name, obj2.age"
   ]
  },
  {
   "cell_type": "code",
   "execution_count": 16,
   "id": "bb7e250e",
   "metadata": {},
   "outputs": [
    {
     "name": "stdout",
     "output_type": "stream",
     "text": [
      "my data: Anil 30\n"
     ]
    }
   ],
   "source": [
    "obj1.show()"
   ]
  },
  {
   "cell_type": "code",
   "execution_count": 22,
   "id": "ac7cebc3",
   "metadata": {},
   "outputs": [
    {
     "name": "stdout",
     "output_type": "stream",
     "text": [
      "my data: deepali 20\n"
     ]
    }
   ],
   "source": [
    "obj2.show()"
   ]
  },
  {
   "cell_type": "code",
   "execution_count": 18,
   "id": "b14a4fa9",
   "metadata": {},
   "outputs": [
    {
     "data": {
      "text/plain": [
       "True"
      ]
     },
     "execution_count": 18,
     "metadata": {},
     "output_type": "execute_result"
    }
   ],
   "source": [
    "obj1.isEligible()"
   ]
  },
  {
   "cell_type": "code",
   "execution_count": 21,
   "id": "4b9ebc33",
   "metadata": {},
   "outputs": [
    {
     "data": {
      "text/plain": [
       "False"
      ]
     },
     "execution_count": 21,
     "metadata": {},
     "output_type": "execute_result"
    }
   ],
   "source": [
    "obj2.isEligible()"
   ]
  },
  {
   "cell_type": "code",
   "execution_count": null,
   "id": "1d351c8f",
   "metadata": {},
   "outputs": [],
   "source": [
    " "
   ]
  }
 ],
 "metadata": {
  "kernelspec": {
   "display_name": "Python 3 (ipykernel)",
   "language": "python",
   "name": "python3"
  },
  "language_info": {
   "codemirror_mode": {
    "name": "ipython",
    "version": 3
   },
   "file_extension": ".py",
   "mimetype": "text/x-python",
   "name": "python",
   "nbconvert_exporter": "python",
   "pygments_lexer": "ipython3",
   "version": "3.11.3"
  }
 },
 "nbformat": 4,
 "nbformat_minor": 5
}
