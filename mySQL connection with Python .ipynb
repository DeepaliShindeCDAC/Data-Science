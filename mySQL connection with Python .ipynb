{
 "cells": [
  {
   "cell_type": "code",
   "execution_count": 1,
   "id": "20da0d79",
   "metadata": {},
   "outputs": [
    {
     "name": "stdout",
     "output_type": "stream",
     "text": [
      "Collecting mysql.connector\n",
      "  Downloading mysql-connector-2.2.9.tar.gz (11.9 MB)\n",
      "                                              0.0/11.9 MB ? eta -:--:--\n",
      "                                              0.1/11.9 MB 1.7 MB/s eta 0:00:08\n",
      "                                              0.2/11.9 MB 2.6 MB/s eta 0:00:05\n",
      "     -                                        0.3/11.9 MB 2.5 MB/s eta 0:00:05\n",
      "     --                                       0.7/11.9 MB 4.2 MB/s eta 0:00:03\n",
      "     ----                                     1.2/11.9 MB 5.2 MB/s eta 0:00:03\n",
      "     -----                                    1.6/11.9 MB 6.9 MB/s eta 0:00:02\n",
      "     -------                                  2.4/11.9 MB 7.9 MB/s eta 0:00:02\n",
      "     ------------                             3.7/11.9 MB 10.2 MB/s eta 0:00:01\n",
      "     ------------------                       5.3/11.9 MB 13.1 MB/s eta 0:00:01\n",
      "     -----------------------                  6.8/11.9 MB 15.6 MB/s eta 0:00:01\n",
      "     -------------------------                7.4/11.9 MB 15.4 MB/s eta 0:00:01\n",
      "     ----------------------------             8.5/11.9 MB 15.6 MB/s eta 0:00:01\n",
      "     ---------------------------------       10.3/11.9 MB 18.2 MB/s eta 0:00:01\n",
      "     --------------------------------------  11.7/11.9 MB 25.1 MB/s eta 0:00:01\n",
      "     --------------------------------------  11.8/11.9 MB 25.1 MB/s eta 0:00:01\n",
      "     --------------------------------------- 11.9/11.9 MB 21.1 MB/s eta 0:00:00\n",
      "  Preparing metadata (setup.py): started\n",
      "  Preparing metadata (setup.py): finished with status 'done'\n",
      "Building wheels for collected packages: mysql.connector\n",
      "  Building wheel for mysql.connector (setup.py): started\n",
      "  Building wheel for mysql.connector (setup.py): finished with status 'done'\n",
      "  Created wheel for mysql.connector: filename=mysql_connector-2.2.9-cp311-cp311-win_amd64.whl size=247958 sha256=fcdcc9fe027808efb3507a4684e4c47e964d4be4cc6a8b9dea81c35ba5e05ae1\n",
      "  Stored in directory: c:\\users\\dipali shinde\\appdata\\local\\pip\\cache\\wheels\\17\\cd\\ed\\2d49e9bac69cf09382e4c7cc20a2511202b48324b87db26019\n",
      "Successfully built mysql.connector\n",
      "Installing collected packages: mysql.connector\n",
      "Successfully installed mysql.connector-2.2.9\n",
      "Note: you may need to restart the kernel to use updated packages.\n"
     ]
    }
   ],
   "source": [
    "pip install mysql.connector"
   ]
  },
  {
   "cell_type": "code",
   "execution_count": 2,
   "id": "47f4a5f1",
   "metadata": {},
   "outputs": [],
   "source": [
    "import pandas as pd"
   ]
  },
  {
   "cell_type": "code",
   "execution_count": 4,
   "id": "f6c50042",
   "metadata": {},
   "outputs": [],
   "source": [
    "import mysql.connector as sql"
   ]
  },
  {
   "cell_type": "code",
   "execution_count": 5,
   "id": "e43cbfd8",
   "metadata": {},
   "outputs": [],
   "source": [
    "db_connection = sql.connect(host ='localhost',database ='mydb', user='root', password='cdac@1234')"
   ]
  },
  {
   "cell_type": "code",
   "execution_count": 6,
   "id": "1a7cebda",
   "metadata": {},
   "outputs": [],
   "source": [
    "db_cursor =db_connection.cursor()"
   ]
  },
  {
   "cell_type": "code",
   "execution_count": 16,
   "id": "8c446f6a",
   "metadata": {},
   "outputs": [],
   "source": [
    "db_cursor.execute('select * from student')\n"
   ]
  },
  {
   "cell_type": "code",
   "execution_count": 17,
   "id": "eee63103",
   "metadata": {},
   "outputs": [],
   "source": [
    "table_rows = db_cursor.fetchall()\n"
   ]
  },
  {
   "cell_type": "code",
   "execution_count": 18,
   "id": "e0df3c4c",
   "metadata": {},
   "outputs": [
    {
     "data": {
      "text/plain": [
       "[(1, 'Deepali', 90.5, 'FY'),\n",
       " (2, 'swati', 85.73, 'SY'),\n",
       " (3, 'Ram', 90.0, 'TY'),\n",
       " (4, 'Ajay', 60.84, 'FY'),\n",
       " (6, 'Vijay', 70.84, 'SY'),\n",
       " (7, 'Jaya', 74.14, 'FY'),\n",
       " (8, 'Pramod', 78.14, 'TY'),\n",
       " (9, 'Nisha', 61.26, 'FY'),\n",
       " (10, 'Rohit', 57.64, 'SY'),\n",
       " (11, 'Charu', 87.5, 'TY'),\n",
       " (12, 'Sita', 57.5, 'TY'),\n",
       " (13, 'test', 65.0, 'FY'),\n",
       " (14, 'test1', 65.0, 'FY')]"
      ]
     },
     "execution_count": 18,
     "metadata": {},
     "output_type": "execute_result"
    }
   ],
   "source": [
    "table_rows"
   ]
  },
  {
   "cell_type": "code",
   "execution_count": 11,
   "id": "f378cc9e",
   "metadata": {},
   "outputs": [],
   "source": [
    "df =pd.DataFrame(table_rows)"
   ]
  },
  {
   "cell_type": "code",
   "execution_count": 12,
   "id": "b3461235",
   "metadata": {},
   "outputs": [
    {
     "data": {
      "text/html": [
       "<div>\n",
       "<style scoped>\n",
       "    .dataframe tbody tr th:only-of-type {\n",
       "        vertical-align: middle;\n",
       "    }\n",
       "\n",
       "    .dataframe tbody tr th {\n",
       "        vertical-align: top;\n",
       "    }\n",
       "\n",
       "    .dataframe thead th {\n",
       "        text-align: right;\n",
       "    }\n",
       "</style>\n",
       "<table border=\"1\" class=\"dataframe\">\n",
       "  <thead>\n",
       "    <tr style=\"text-align: right;\">\n",
       "      <th></th>\n",
       "      <th>0</th>\n",
       "      <th>1</th>\n",
       "      <th>2</th>\n",
       "      <th>3</th>\n",
       "    </tr>\n",
       "  </thead>\n",
       "  <tbody>\n",
       "    <tr>\n",
       "      <th>0</th>\n",
       "      <td>1</td>\n",
       "      <td>Deepali</td>\n",
       "      <td>90.50</td>\n",
       "      <td>FY</td>\n",
       "    </tr>\n",
       "    <tr>\n",
       "      <th>1</th>\n",
       "      <td>2</td>\n",
       "      <td>swati</td>\n",
       "      <td>85.73</td>\n",
       "      <td>SY</td>\n",
       "    </tr>\n",
       "    <tr>\n",
       "      <th>2</th>\n",
       "      <td>3</td>\n",
       "      <td>Ram</td>\n",
       "      <td>90.00</td>\n",
       "      <td>TY</td>\n",
       "    </tr>\n",
       "    <tr>\n",
       "      <th>3</th>\n",
       "      <td>4</td>\n",
       "      <td>Ajay</td>\n",
       "      <td>60.84</td>\n",
       "      <td>FY</td>\n",
       "    </tr>\n",
       "    <tr>\n",
       "      <th>4</th>\n",
       "      <td>6</td>\n",
       "      <td>Vijay</td>\n",
       "      <td>70.84</td>\n",
       "      <td>SY</td>\n",
       "    </tr>\n",
       "    <tr>\n",
       "      <th>5</th>\n",
       "      <td>7</td>\n",
       "      <td>Jaya</td>\n",
       "      <td>74.14</td>\n",
       "      <td>FY</td>\n",
       "    </tr>\n",
       "    <tr>\n",
       "      <th>6</th>\n",
       "      <td>8</td>\n",
       "      <td>Pramod</td>\n",
       "      <td>78.14</td>\n",
       "      <td>TY</td>\n",
       "    </tr>\n",
       "    <tr>\n",
       "      <th>7</th>\n",
       "      <td>9</td>\n",
       "      <td>Nisha</td>\n",
       "      <td>61.26</td>\n",
       "      <td>FY</td>\n",
       "    </tr>\n",
       "    <tr>\n",
       "      <th>8</th>\n",
       "      <td>10</td>\n",
       "      <td>Rohit</td>\n",
       "      <td>57.64</td>\n",
       "      <td>SY</td>\n",
       "    </tr>\n",
       "    <tr>\n",
       "      <th>9</th>\n",
       "      <td>11</td>\n",
       "      <td>Charu</td>\n",
       "      <td>87.50</td>\n",
       "      <td>TY</td>\n",
       "    </tr>\n",
       "    <tr>\n",
       "      <th>10</th>\n",
       "      <td>12</td>\n",
       "      <td>Sita</td>\n",
       "      <td>57.50</td>\n",
       "      <td>TY</td>\n",
       "    </tr>\n",
       "    <tr>\n",
       "      <th>11</th>\n",
       "      <td>13</td>\n",
       "      <td>test</td>\n",
       "      <td>65.00</td>\n",
       "      <td>FY</td>\n",
       "    </tr>\n",
       "    <tr>\n",
       "      <th>12</th>\n",
       "      <td>14</td>\n",
       "      <td>test1</td>\n",
       "      <td>65.00</td>\n",
       "      <td>FY</td>\n",
       "    </tr>\n",
       "  </tbody>\n",
       "</table>\n",
       "</div>"
      ],
      "text/plain": [
       "     0        1      2   3\n",
       "0    1  Deepali  90.50  FY\n",
       "1    2    swati  85.73  SY\n",
       "2    3      Ram  90.00  TY\n",
       "3    4     Ajay  60.84  FY\n",
       "4    6    Vijay  70.84  SY\n",
       "5    7     Jaya  74.14  FY\n",
       "6    8   Pramod  78.14  TY\n",
       "7    9    Nisha  61.26  FY\n",
       "8   10    Rohit  57.64  SY\n",
       "9   11    Charu  87.50  TY\n",
       "10  12     Sita  57.50  TY\n",
       "11  13     test  65.00  FY\n",
       "12  14    test1  65.00  FY"
      ]
     },
     "execution_count": 12,
     "metadata": {},
     "output_type": "execute_result"
    }
   ],
   "source": [
    "df"
   ]
  },
  {
   "cell_type": "code",
   "execution_count": null,
   "id": "53c5b328",
   "metadata": {},
   "outputs": [],
   "source": []
  }
 ],
 "metadata": {
  "kernelspec": {
   "display_name": "Python 3 (ipykernel)",
   "language": "python",
   "name": "python3"
  },
  "language_info": {
   "codemirror_mode": {
    "name": "ipython",
    "version": 3
   },
   "file_extension": ".py",
   "mimetype": "text/x-python",
   "name": "python",
   "nbconvert_exporter": "python",
   "pygments_lexer": "ipython3",
   "version": "3.11.3"
  }
 },
 "nbformat": 4,
 "nbformat_minor": 5
}
