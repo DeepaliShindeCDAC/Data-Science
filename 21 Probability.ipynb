{
 "cells": [
  {
   "cell_type": "markdown",
   "id": "79d08273",
   "metadata": {},
   "source": [
    "#### Therotical Probabilty"
   ]
  },
  {
   "cell_type": "code",
   "execution_count": 1,
   "id": "6d3eeb5f",
   "metadata": {},
   "outputs": [],
   "source": [
    "def coin_filp_probability():\n",
    "    heads_probability =1/2\n",
    "    return heads_probability\n",
    "\n",
    "def rolling_dice_probability(number):\n",
    "    if number not in range(1,7):\n",
    "        raise ValueError(\"Number musr be between 1 to 6\")\n",
    "    probability =1/6\n",
    "    return probability"
   ]
  },
  {
   "cell_type": "code",
   "execution_count": 2,
   "id": "1db53f14",
   "metadata": {},
   "outputs": [
    {
     "name": "stdout",
     "output_type": "stream",
     "text": [
      "coin flip result is  0.5\n",
      "dice roll result is 0.16666666666666666\n"
     ]
    }
   ],
   "source": [
    "coin_flip_result = coin_filp_probability()\n",
    "dice_roll_result =rolling_dice_probability(6)\n",
    "print(\"coin flip result is \",coin_flip_result)\n",
    "print(\"dice roll result is\",dice_roll_result)"
   ]
  },
  {
   "cell_type": "markdown",
   "id": "a3808bcd",
   "metadata": {},
   "source": [
    "#### Experimental Probability "
   ]
  },
  {
   "cell_type": "code",
   "execution_count": 3,
   "id": "26243673",
   "metadata": {},
   "outputs": [],
   "source": [
    "import random\n",
    "import pandas as pd"
   ]
  },
  {
   "cell_type": "code",
   "execution_count": 4,
   "id": "5c9dba33",
   "metadata": {},
   "outputs": [],
   "source": [
    "def simulate_coin_flips(num_flips):\n",
    "    result=[]\n",
    "    for __ in range(num_flips):\n",
    "        flip = random.choice([\"heads\",\"tails\"])\n",
    "        result.append(flip)\n",
    "    return result"
   ]
  },
  {
   "cell_type": "code",
   "execution_count": 10,
   "id": "320291d2",
   "metadata": {},
   "outputs": [
    {
     "data": {
      "text/plain": [
       "tails    56\n",
       "heads    44\n",
       "dtype: int64"
      ]
     },
     "execution_count": 10,
     "metadata": {},
     "output_type": "execute_result"
    }
   ],
   "source": [
    "pd.Series(simulate_coin_flips(100)).value_counts()"
   ]
  },
  {
   "cell_type": "code",
   "execution_count": 11,
   "id": "b489b968",
   "metadata": {},
   "outputs": [],
   "source": [
    "def calculate_experiemntal_probability(result,event):\n",
    "    event_count = result.count(event)\n",
    "    total_flip = len(result)\n",
    "    probability =    event_count/    total_flip\n",
    "    return probability\n"
   ]
  },
  {
   "cell_type": "code",
   "execution_count": 17,
   "id": "42c37914",
   "metadata": {},
   "outputs": [
    {
     "name": "stdout",
     "output_type": "stream",
     "text": [
      "heads: 0.518\n",
      "tails: 0.482\n"
     ]
    }
   ],
   "source": [
    "result= simulate_coin_flips(1000)\n",
    "print(\"heads:\",calculate_experiemntal_probability(result,'heads'))\n",
    "print(\"tails:\",calculate_experiemntal_probability(result,'tails'))"
   ]
  },
  {
   "cell_type": "code",
   "execution_count": null,
   "id": "64acda3a",
   "metadata": {},
   "outputs": [],
   "source": []
  },
  {
   "cell_type": "code",
   "execution_count": null,
   "id": "27021f21",
   "metadata": {},
   "outputs": [],
   "source": []
  }
 ],
 "metadata": {
  "kernelspec": {
   "display_name": "Python 3 (ipykernel)",
   "language": "python",
   "name": "python3"
  },
  "language_info": {
   "codemirror_mode": {
    "name": "ipython",
    "version": 3
   },
   "file_extension": ".py",
   "mimetype": "text/x-python",
   "name": "python",
   "nbconvert_exporter": "python",
   "pygments_lexer": "ipython3",
   "version": "3.11.3"
  }
 },
 "nbformat": 4,
 "nbformat_minor": 5
}
